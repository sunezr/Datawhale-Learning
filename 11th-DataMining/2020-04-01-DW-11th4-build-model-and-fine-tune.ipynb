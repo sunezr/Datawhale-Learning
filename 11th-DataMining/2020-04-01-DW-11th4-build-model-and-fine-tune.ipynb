{
 "cells": [
  {
   "cell_type": "markdown",
   "metadata": {},
   "source": [
    "# Datawhale 零基础入门数据挖掘-Task4 建模调参 \n",
    "\n",
    "Tip:此部分为零基础入门数据挖掘的 Task4 建模调参 部分\n",
    "\n",
    "**赛题：零基础入门数据挖掘 - 二手车交易价格预测**\n",
    "\n",
    "地址：https://tianchi.aliyun.com/competition/entrance/231784/introduction?spm=5176.12281957.1004.1.38b02448ausjSX \n",
    "    "
   ]
  },
  {
   "cell_type": "markdown",
   "metadata": {},
   "source": [
    "##  内容介绍\n",
    "\n",
    "1. 线性回归模型：\n",
    "    - 线性回归对于特征的要求；\n",
    "    - 处理长尾分布；\n",
    "    - 理解线性回归模型；\n",
    "2. 模型性能验证：\n",
    "    - 评价函数与目标函数；\n",
    "    - 交叉验证方法；\n",
    "    - 留一验证方法；\n",
    "    - 针对时间序列问题的验证；\n",
    "    - 绘制学习率曲线；\n",
    "    - 绘制验证曲线；\n",
    "3. 嵌入式特征选择：\n",
    "    - Lasso回归；\n",
    "    - Ridge回归；\n",
    "    - 决策树；\n",
    "4. 模型对比：\n",
    "    - 常用线性模型；\n",
    "    - 常用非线性模型；\n",
    "5. 模型调参：\n",
    "    - 贪心调参方法；\n",
    "    - 网格调参方法；\n",
    "    - 贝叶斯调参方法；"
   ]
  },
  {
   "cell_type": "code",
   "execution_count": 1,
   "metadata": {},
   "outputs": [],
   "source": [
    "import pandas as pd\n",
    "import numpy as np\n",
    "import matplotlib\n",
    "import matplotlib.pyplot as plt\n",
    "import seaborn as sns\n",
    "from operator import itemgetter\n",
    "from warnings import filterwarnings\n",
    "filterwarnings('ignore')\n",
    "%matplotlib inline"
   ]
  },
  {
   "cell_type": "code",
   "execution_count": 2,
   "metadata": {},
   "outputs": [
    {
     "data": {
      "text/plain": [
       "((150000, 31), (50000, 30))"
      ]
     },
     "execution_count": 2,
     "metadata": {},
     "output_type": "execute_result"
    }
   ],
   "source": [
    "path = './datalab/231784/'\n",
    "train_data = pd.read_csv(path + 'used_car_train_20200313.csv', sep=' ')\n",
    "test_data = pd.read_csv(path + 'used_car_testA_20200313.csv', sep=' ')\n",
    "train_data.shape, test_data.shape"
   ]
  },
  {
   "cell_type": "code",
   "execution_count": 3,
   "metadata": {},
   "outputs": [],
   "source": [
    "#train_data.drop(index=train_data.index[train_data['model'].isnull()], inplace=True)\n",
    "# 测试集没有bodyType缺失，bodyType缺失的的许多都含有其他缺失值，这里删除bodyType缺失的数据，约占总训练数据3%，也可以考虑不删除。 \n",
    "#train_data.fillna({'bodyType': -1}, inplace=True)"
   ]
  },
  {
   "cell_type": "code",
   "execution_count": 5,
   "metadata": {},
   "outputs": [],
   "source": [
    "# price 进行log转换\n",
    "ground_y = train_data['price']\n",
    "train_data['price'] = np.log(train_data['price'] + 1)"
   ]
  },
  {
   "cell_type": "code",
   "execution_count": 6,
   "metadata": {
    "scrolled": false
   },
   "outputs": [
    {
     "data": {
      "text/plain": [
       "count    150000.000000\n",
       "mean          8.035271\n",
       "std           1.218222\n",
       "min           2.484907\n",
       "25%           7.170888\n",
       "50%           8.086718\n",
       "75%           8.949105\n",
       "max          11.512925\n",
       "Name: price, dtype: float64"
      ]
     },
     "execution_count": 6,
     "metadata": {},
     "output_type": "execute_result"
    }
   ],
   "source": [
    "train_data['price'].describe()"
   ]
  },
  {
   "cell_type": "markdown",
   "metadata": {},
   "source": [
    "## 构造特征\n",
    "合并训练集和测试集，并构造特征。"
   ]
  },
  {
   "cell_type": "code",
   "execution_count": 8,
   "metadata": {
    "scrolled": false
   },
   "outputs": [
    {
     "data": {
      "text/plain": [
       "((200000, 29),\n",
       " Index(['SaleID', 'bodyType', 'brand', 'creatDate', 'fuelType', 'gearbox',\n",
       "        'istrain', 'kilometer', 'model', 'notRepairedDamage', 'power', 'price',\n",
       "        'regDate', 'regionCode', 'v_0', 'v_1', 'v_10', 'v_11', 'v_12', 'v_13',\n",
       "        'v_14', 'v_2', 'v_3', 'v_4', 'v_5', 'v_6', 'v_7', 'v_8', 'v_9'],\n",
       "       dtype='object'))"
      ]
     },
     "execution_count": 8,
     "metadata": {},
     "output_type": "execute_result"
    }
   ],
   "source": [
    "train_data['istrain'] = 1\n",
    "test_data['istrain'] = 0\n",
    "train_labels = train_data['price']\n",
    "data = pd.concat([train_data, test_data], ignore_index=True) # 合并train data, test data, 可一次性处理数据\n",
    "data.drop(columns=['name', 'offerType', 'seller'], inplace=True) # 删除意义不大的特征\n",
    "data.loc[:, data.columns != 'price']=data.loc[:, data.columns != 'price'].apply(lambda x:x.fillna(x.value_counts().index[0])) # fill NA with most frequent value\n",
    "#data.fillna({'bodyType': -1, 'brand': -1, 'gearbox': -1}, inplace=True)\n",
    "#data['power'][data['power'] > 600] = 0\n",
    "#data['power'].replace(0, mean_power, inplace=True)\n",
    "date_features = ['regDate', 'creatDate'] # 日期特征\n",
    "cat_features = [ 'SaleID', 'bodyType', 'brand', 'fuelType', 'gearbox', 'model', 'notRepairedDamage',  'regionCode'] # 类别特征\n",
    "num_features = ['v_' + str(i) for i in range(15)]  # power bin instead\n",
    "cat_to_expand = ['kilometer', 'bodyType', 'brand', 'fuelType', 'gearbox', 'model', 'notRepairedDamage'] # 需要统计数据扩展的特征\n",
    "data.shape, data.columns"
   ]
  },
  {
   "cell_type": "code",
   "execution_count": 9,
   "metadata": {},
   "outputs": [
    {
     "data": {
      "text/html": [
       "<div>\n",
       "<style scoped>\n",
       "    .dataframe tbody tr th:only-of-type {\n",
       "        vertical-align: middle;\n",
       "    }\n",
       "\n",
       "    .dataframe tbody tr th {\n",
       "        vertical-align: top;\n",
       "    }\n",
       "\n",
       "    .dataframe thead th {\n",
       "        text-align: right;\n",
       "    }\n",
       "</style>\n",
       "<table border=\"1\" class=\"dataframe\">\n",
       "  <thead>\n",
       "    <tr style=\"text-align: right;\">\n",
       "      <th></th>\n",
       "      <th>power_bin</th>\n",
       "      <th>power</th>\n",
       "    </tr>\n",
       "  </thead>\n",
       "  <tbody>\n",
       "    <tr>\n",
       "      <th>count</th>\n",
       "      <td>200000.000000</td>\n",
       "      <td>200000.000000</td>\n",
       "    </tr>\n",
       "    <tr>\n",
       "      <th>mean</th>\n",
       "      <td>14.954130</td>\n",
       "      <td>4.351212</td>\n",
       "    </tr>\n",
       "    <tr>\n",
       "      <th>std</th>\n",
       "      <td>4.787278</td>\n",
       "      <td>1.398243</td>\n",
       "    </tr>\n",
       "    <tr>\n",
       "      <th>min</th>\n",
       "      <td>0.000000</td>\n",
       "      <td>0.000000</td>\n",
       "    </tr>\n",
       "    <tr>\n",
       "      <th>25%</th>\n",
       "      <td>15.000000</td>\n",
       "      <td>4.330733</td>\n",
       "    </tr>\n",
       "    <tr>\n",
       "      <th>50%</th>\n",
       "      <td>16.000000</td>\n",
       "      <td>4.709530</td>\n",
       "    </tr>\n",
       "    <tr>\n",
       "      <th>75%</th>\n",
       "      <td>17.000000</td>\n",
       "      <td>5.017280</td>\n",
       "    </tr>\n",
       "    <tr>\n",
       "      <th>max</th>\n",
       "      <td>20.000000</td>\n",
       "      <td>9.903538</td>\n",
       "    </tr>\n",
       "  </tbody>\n",
       "</table>\n",
       "</div>"
      ],
      "text/plain": [
       "           power_bin          power\n",
       "count  200000.000000  200000.000000\n",
       "mean       14.954130       4.351212\n",
       "std         4.787278       1.398243\n",
       "min         0.000000       0.000000\n",
       "25%        15.000000       4.330733\n",
       "50%        16.000000       4.709530\n",
       "75%        17.000000       5.017280\n",
       "max        20.000000       9.903538"
      ]
     },
     "execution_count": 9,
     "metadata": {},
     "output_type": "execute_result"
    }
   ],
   "source": [
    "# power 分桶\n",
    "data['power'] = np.log(1 + data['power'])\n",
    "bin = [i * 0.3 for i in range(-1, 21)]\n",
    "data['power_bin'] = pd.cut(data['power'], bin, labels=False)\n",
    "data['power_bin'][data['power']  >= 6] = 20\n",
    "cat_to_expand.append('power_bin')\n",
    "data[['power_bin', 'power']].describe()"
   ]
  },
  {
   "cell_type": "code",
   "execution_count": 11,
   "metadata": {},
   "outputs": [],
   "source": [
    "# 增加特征regionCode_0, 1, 可以使用前regionCode_expand_num位，暂不清楚多少位好。\n",
    "regionCode_expand_num = 1 \n",
    "for i in range(regionCode_expand_num):\n",
    "    data['regionCode_' + str(i)] =  data['regionCode'] // 10 ** (3-i)\n",
    "    #cat_features.append('regionCode_' + str(i))\n",
    "    cat_to_expand.append('regionCode_' + str(i))"
   ]
  },
  {
   "cell_type": "code",
   "execution_count": 12,
   "metadata": {},
   "outputs": [],
   "source": [
    "# 将notRepairedeDamage中'-'替换为0，并将object类型转为float\n",
    "data['notRepairedDamage'] = data['notRepairedDamage'].replace(\"-\", 0).astype(np.float) "
   ]
  },
  {
   "cell_type": "code",
   "execution_count": 13,
   "metadata": {
    "scrolled": true
   },
   "outputs": [
    {
     "data": {
      "text/plain": [
       "0    1046\n",
       "1    4366\n",
       "2    2806\n",
       "3     434\n",
       "4    6977\n",
       "Name: regionCode, dtype: int64"
      ]
     },
     "execution_count": 13,
     "metadata": {},
     "output_type": "execute_result"
    }
   ],
   "source": [
    "data['regionCode'].head()"
   ]
  },
  {
   "cell_type": "code",
   "execution_count": 14,
   "metadata": {},
   "outputs": [],
   "source": [
    "# regDate中存在月份为0的现象，不能直接转换，将其改为1月\n",
    "def date_proc(x):\n",
    "    m = int(x[4:6])\n",
    "    if m == 0:\n",
    "        m = 1\n",
    "    return x[:4] + '-' + str(m) + '-' + x[6:]\n",
    "\n",
    "\n",
    "data['regDate'] = pd.to_datetime(data['regDate'].astype('str').apply(date_proc)) \n",
    "data['regDate' + '_year'] = data['regDate'].dt.year # 添加注册年份特征\n",
    "cat_to_expand.append('regDate_year')\n",
    "#data[f + '_month'] = data[f].dt.month\n",
    "#data[f + '_day'] = data[f].dt.day\n",
    "#data[f + '_dayofweek'] = data[f].dt.dayofweek"
   ]
  },
  {
   "cell_type": "code",
   "execution_count": 15,
   "metadata": {},
   "outputs": [],
   "source": [
    "# # 增加特征使用年份\n",
    "# data['used_time'] = (pd.to_datetime(data['creatDate'], format='%Y%m%d') - \n",
    "#                             pd.to_datetime(data['regDate'], format='%Y%m%d')).dt.days / 365\n",
    "# cat_to_expand.append('used_time')"
   ]
  },
  {
   "cell_type": "code",
   "execution_count": 16,
   "metadata": {
    "scrolled": true
   },
   "outputs": [],
   "source": [
    "#data['used_time'].isnull().sum() # 没有日期异常"
   ]
  },
  {
   "cell_type": "code",
   "execution_count": 17,
   "metadata": {},
   "outputs": [],
   "source": [
    "# 有些特征组合后可能会有更好的效果，下面构造交叉特征。\n",
    "# def create_cross_feature(df, columns):\n",
    "#     \"\"\"\"\n",
    "#     在df中增加交叉特征并返会交叉特征列名\n",
    "#     param df: pd.Dataframe\n",
    "#     param columns: 构成交叉特征的多个列名组成的列表\n",
    "#     \"\"\"\n",
    "#     cross_feature_name = \"cross_\" + '_'.join(list(map(str, columns))) \n",
    "#     df[cross_feature_name] = df[columns].apply(tuple, axis=1).apply(lambda x: '_'.join(map(str, x)))\n",
    "#     return cross_feature_name\n",
    "\n",
    "\n",
    "# cross_columns = [['regDate_year', 'kilometer'], ['brand', 'bodyType'], ['brand', 'model']]\n",
    "# for columns in cross_columns:\n",
    "#     cat_to_expand.append(create_cross_feature(data, columns))"
   ]
  },
  {
   "cell_type": "code",
   "execution_count": 18,
   "metadata": {
    "scrolled": false
   },
   "outputs": [
    {
     "data": {
      "text/plain": [
       "['kilometer',\n",
       " 'bodyType',\n",
       " 'brand',\n",
       " 'fuelType',\n",
       " 'gearbox',\n",
       " 'model',\n",
       " 'notRepairedDamage',\n",
       " 'power_bin',\n",
       " 'regionCode_0',\n",
       " 'regDate_year']"
      ]
     },
     "execution_count": 18,
     "metadata": {},
     "output_type": "execute_result"
    }
   ],
   "source": [
    "cat_to_expand"
   ]
  },
  {
   "cell_type": "code",
   "execution_count": 19,
   "metadata": {},
   "outputs": [],
   "source": [
    "# 下面是一个增加类别特的统计特征的函数"
   ]
  },
  {
   "cell_type": "code",
   "execution_count": 20,
   "metadata": {},
   "outputs": [],
   "source": [
    "def cat_stat_expand(train_data, data, columns):\n",
    "    \"\"\"\n",
    "    使用统计数据进行扩展， 这里没有inplace, 可尝试改为inplace\n",
    "    param train_data: 用于生成统计数据的df\n",
    "    param data: 需要扩展的df\n",
    "    param columns： 需要使用统计数据扩展的列\n",
    "    \"\"\"\n",
    "    for col in columns:\n",
    "        train_gb = train_data.groupby(col)\n",
    "        all_info = {}\n",
    "        for kind, kind_data in train_gb:\n",
    "            info = {}\n",
    "            #kind_data = kind_data[kind_data['price'] > 0]\n",
    "            #info[col + 'amount'] = len(kind_data) waste\n",
    "            info[col + '_price_max'] = kind_data.price.max()\n",
    "            info[col + '_price_median'] = kind_data.price.median()\n",
    "            info[col + '_price_min'] = kind_data.price.min()\n",
    "            #info[col + 'price_sum'] = kind_data.price.sum() waste\n",
    "            #info[col + 'price_std'] = kind_data.price.std() waste\n",
    "            #info[col + '_brand_price_average'] = round(kind_data.price.sum() / (len(kind_data) + 1), 2) \n",
    "            all_info[kind] = info\n",
    "        col_fea = pd.DataFrame(all_info).T.reset_index().rename(columns={\"index\": col})\n",
    "        data = data.merge(col_fea, how='left', on=col)\n",
    "    return data "
   ]
  },
  {
   "cell_type": "code",
   "execution_count": 21,
   "metadata": {
    "scrolled": true
   },
   "outputs": [
    {
     "data": {
      "text/plain": [
       "Index(['SaleID', 'bodyType', 'brand', 'creatDate', 'fuelType', 'gearbox',\n",
       "       'istrain', 'kilometer', 'model', 'notRepairedDamage', 'power', 'price',\n",
       "       'regDate', 'regionCode', 'v_0', 'v_1', 'v_10', 'v_11', 'v_12', 'v_13',\n",
       "       'v_14', 'v_2', 'v_3', 'v_4', 'v_5', 'v_6', 'v_7', 'v_8', 'v_9',\n",
       "       'power_bin', 'regionCode_0', 'regDate_year'],\n",
       "      dtype='object')"
      ]
     },
     "execution_count": 21,
     "metadata": {},
     "output_type": "execute_result"
    }
   ],
   "source": [
    "data.columns"
   ]
  },
  {
   "cell_type": "code",
   "execution_count": 22,
   "metadata": {
    "scrolled": false
   },
   "outputs": [],
   "source": [
    "data = cat_stat_expand(data[data['istrain']==1], data, cat_to_expand) # 特征扩展"
   ]
  },
  {
   "cell_type": "code",
   "execution_count": 23,
   "metadata": {},
   "outputs": [
    {
     "data": {
      "text/plain": [
       "50000"
      ]
     },
     "execution_count": 23,
     "metadata": {},
     "output_type": "execute_result"
    }
   ],
   "source": [
    "a = data.isnull()\n",
    "a.sum().sum()"
   ]
  },
  {
   "cell_type": "code",
   "execution_count": 24,
   "metadata": {},
   "outputs": [
    {
     "data": {
      "text/plain": [
       "SaleID                       0\n",
       "bodyType                     0\n",
       "brand                        0\n",
       "creatDate                    0\n",
       "fuelType                     0\n",
       "                            ..\n",
       "regionCode_0_price_median    0\n",
       "regionCode_0_price_min       0\n",
       "regDate_year_price_max       0\n",
       "regDate_year_price_median    0\n",
       "regDate_year_price_min       0\n",
       "Length: 62, dtype: int64"
      ]
     },
     "execution_count": 24,
     "metadata": {},
     "output_type": "execute_result"
    }
   ],
   "source": [
    "data.isnull().sum()"
   ]
  },
  {
   "cell_type": "code",
   "execution_count": 25,
   "metadata": {},
   "outputs": [],
   "source": [
    "# 这份数据已经可供树模型使用\n",
    "data.to_csv('data_for_tree.csv', index=0)"
   ]
  },
  {
   "cell_type": "markdown",
   "metadata": {},
   "source": [
    "###  嵌入式特征筛选"
   ]
  },
  {
   "cell_type": "code",
   "execution_count": 75,
   "metadata": {
    "scrolled": false
   },
   "outputs": [],
   "source": [
    "continuous_feature_names = [col for col in data.columns if col not in date_features + cat_to_expand + ['price', 'istrain', 'power'] + cat_features ]\n",
    "#continuous_feature_names "
   ]
  },
  {
   "cell_type": "code",
   "execution_count": 34,
   "metadata": {},
   "outputs": [],
   "source": [
    "train_X = data[continuous_feature_names][data.istrain == 1]\n",
    "train_y = data['price'][data.istrain == 1]"
   ]
  },
  {
   "cell_type": "code",
   "execution_count": 36,
   "metadata": {},
   "outputs": [
    {
     "data": {
      "text/plain": [
       "LinearRegression(copy_X=True, fit_intercept=True, n_jobs=None, normalize=True)"
      ]
     },
     "execution_count": 36,
     "metadata": {},
     "output_type": "execute_result"
    }
   ],
   "source": [
    "from sklearn.linear_model import LinearRegression\n",
    "model = LinearRegression(normalize=True)\n",
    "model.fit(train_X, train_y)"
   ]
  },
  {
   "cell_type": "code",
   "execution_count": 37,
   "metadata": {},
   "outputs": [
    {
     "data": {
      "text/plain": [
       "[('v_1', 1602804.6174257451),\n",
       " ('v_10', 1334123.0587816942),\n",
       " ('v_2', 600163.4234153582),\n",
       " ('v_0', 65774.89846862372),\n",
       " ('v_4', 447.86492500976493),\n",
       " ('v_14', 12.767938564038232),\n",
       " ('v_9', 2.2915726545736237),\n",
       " ('bodyType_price_max', 0.08319580797378033),\n",
       " ('kilometer_price_median', 0.08228286343901796),\n",
       " ('power_bin_price_median', 0.0816457899820998),\n",
       " ('bodyType_price_min', 0.054324569980291795),\n",
       " ('regionCode_0_price_max', 0.03812009334639739),\n",
       " ('fuelType_price_median', 0.02340883239202859),\n",
       " ('power_bin_price_max', 0.005736748987208238),\n",
       " ('power_bin_price_min', 0.005335229381007327),\n",
       " ('brand_price_min', 0.0028036956085898393),\n",
       " ('model_price_min', 0.0008142775751114093),\n",
       " ('brand_price_max', -0.006128467576428569),\n",
       " ('regDate_year_price_min', -0.006733448425044843),\n",
       " ('regDate_year_price_max', -0.01257942772633261),\n",
       " ('regionCode_0_price_median', -0.01521979701757619),\n",
       " ('model_price_max', -0.018834399915805364),\n",
       " ('kilometer_price_min', -0.02022816441830568),\n",
       " ('regionCode_0_price_min', -0.020859782507565667),\n",
       " ('fuelType_price_min', -0.02748945073042357),\n",
       " ('bodyType_price_median', -0.0279803546342002),\n",
       " ('regDate_year_price_median', -0.07504962562832902),\n",
       " ('fuelType_price_max', -0.09208468672955004),\n",
       " ('model_price_median', -0.1025636173668147),\n",
       " ('brand_price_median', -0.1345306171935501),\n",
       " ('kilometer_price_max', -0.3117292819647402),\n",
       " ('v_7', -2.6529852850718574),\n",
       " ('notRepairedDamage_price_max', -7.3071582317352295),\n",
       " ('v_5', -16.709132738649195),\n",
       " ('v_8', -34.33758719377712),\n",
       " ('notRepairedDamage_price_median', -44.042748274477674),\n",
       " ('v_6', -148.6977423080628),\n",
       " ('notRepairedDamage_price_min', -707.251827016516),\n",
       " ('v_13', -1034.7655947727287),\n",
       " ('gearbox_price_median', -3627.2919623311427),\n",
       " ('gearbox_price_min', -24462.563505896458),\n",
       " ('v_3', -34123.18024844656),\n",
       " ('v_12', -213060.05315039656),\n",
       " ('v_11', -1053272.4545566859),\n",
       " ('gearbox_price_max', -7591617.513524128)]"
      ]
     },
     "execution_count": 37,
     "metadata": {},
     "output_type": "execute_result"
    }
   ],
   "source": [
    "'intercept:'+ str(model.intercept_)\n",
    "\n",
    "sorted(dict(zip(continuous_feature_names, model.coef_)).items(), key=lambda x:x[1], reverse=True)"
   ]
  },
  {
   "cell_type": "code",
   "execution_count": 38,
   "metadata": {},
   "outputs": [],
   "source": [
    "subsample_index = np.random.randint(low=0, high=len(train_y), size=50)"
   ]
  },
  {
   "cell_type": "code",
   "execution_count": 40,
   "metadata": {},
   "outputs": [],
   "source": [
    "from sklearn.model_selection import cross_val_score\n",
    "from sklearn.metrics import mean_absolute_error,  make_scorer"
   ]
  },
  {
   "cell_type": "code",
   "execution_count": 41,
   "metadata": {},
   "outputs": [
    {
     "name": "stderr",
     "output_type": "stream",
     "text": [
      "[Parallel(n_jobs=1)]: Using backend SequentialBackend with 1 concurrent workers.\n",
      "[Parallel(n_jobs=1)]: Done   5 out of   5 | elapsed:    0.8s finished\n"
     ]
    }
   ],
   "source": [
    "scores = cross_val_score(model, X=train_X, y=train_y, verbose=1, cv = 5, scoring=make_scorer(mean_absolute_error))"
   ]
  },
  {
   "cell_type": "code",
   "execution_count": 42,
   "metadata": {},
   "outputs": [
    {
     "data": {
      "text/html": [
       "<div>\n",
       "<style scoped>\n",
       "    .dataframe tbody tr th:only-of-type {\n",
       "        vertical-align: middle;\n",
       "    }\n",
       "\n",
       "    .dataframe tbody tr th {\n",
       "        vertical-align: top;\n",
       "    }\n",
       "\n",
       "    .dataframe thead th {\n",
       "        text-align: right;\n",
       "    }\n",
       "</style>\n",
       "<table border=\"1\" class=\"dataframe\">\n",
       "  <thead>\n",
       "    <tr style=\"text-align: right;\">\n",
       "      <th></th>\n",
       "      <th>cv1</th>\n",
       "      <th>cv2</th>\n",
       "      <th>cv3</th>\n",
       "      <th>cv4</th>\n",
       "      <th>cv5</th>\n",
       "    </tr>\n",
       "  </thead>\n",
       "  <tbody>\n",
       "    <tr>\n",
       "      <th>MAE</th>\n",
       "      <td>0.18874</td>\n",
       "      <td>0.190103</td>\n",
       "      <td>0.261304</td>\n",
       "      <td>0.85072</td>\n",
       "      <td>0.191253</td>\n",
       "    </tr>\n",
       "  </tbody>\n",
       "</table>\n",
       "</div>"
      ],
      "text/plain": [
       "         cv1       cv2       cv3      cv4       cv5\n",
       "MAE  0.18874  0.190103  0.261304  0.85072  0.191253"
      ]
     },
     "execution_count": 42,
     "metadata": {},
     "output_type": "execute_result"
    }
   ],
   "source": [
    "scores = pd.DataFrame(scores.reshape(1,-1))\n",
    "scores.columns = ['cv' + str(x) for x in range(1, 6)]\n",
    "scores.index = ['MAE']\n",
    "scores"
   ]
  },
  {
   "cell_type": "code",
   "execution_count": 43,
   "metadata": {},
   "outputs": [],
   "source": [
    "from sklearn.model_selection import learning_curve, validation_curve"
   ]
  },
  {
   "cell_type": "code",
   "execution_count": 44,
   "metadata": {},
   "outputs": [],
   "source": [
    "def plot_learning_curve(estimator, title, X, y, ylim=None, cv=None,n_jobs=1, train_size=np.linspace(.1, 1.0, 5 )):  \n",
    "    plt.figure()  \n",
    "    plt.title(title)  \n",
    "    if ylim is not None:  \n",
    "        plt.ylim(*ylim)  \n",
    "    plt.xlabel('Training example')  \n",
    "    plt.ylabel('score')  \n",
    "    train_sizes, train_scores, test_scores = learning_curve(estimator, X, y, cv=cv, n_jobs=n_jobs, train_sizes=train_size, scoring = make_scorer(mean_absolute_error))  \n",
    "    train_scores_mean = np.mean(train_scores, axis=1)  \n",
    "    train_scores_std = np.std(train_scores, axis=1)  \n",
    "    test_scores_mean = np.mean(test_scores, axis=1)  \n",
    "    test_scores_std = np.std(test_scores, axis=1)  \n",
    "    plt.grid()#区域  \n",
    "    plt.fill_between(train_sizes, train_scores_mean - train_scores_std,  \n",
    "                     train_scores_mean + train_scores_std, alpha=0.1,  \n",
    "                     color=\"r\")  \n",
    "    plt.fill_between(train_sizes, test_scores_mean - test_scores_std,  \n",
    "                     test_scores_mean + test_scores_std, alpha=0.1,  \n",
    "                     color=\"g\")  \n",
    "    plt.plot(train_sizes, train_scores_mean, 'o-', color='r',  \n",
    "             label=\"Training score\")  \n",
    "    plt.plot(train_sizes, test_scores_mean,'o-',color=\"g\",  \n",
    "             label=\"Cross-validation score\")  \n",
    "    plt.legend(loc=\"best\")  \n",
    "    return plt  "
   ]
  },
  {
   "cell_type": "code",
   "execution_count": 45,
   "metadata": {},
   "outputs": [
    {
     "data": {
      "text/plain": [
       "<module 'matplotlib.pyplot' from 'C:\\\\Users\\\\sun99\\\\Anaconda3\\\\lib\\\\site-packages\\\\matplotlib\\\\pyplot.py'>"
      ]
     },
     "execution_count": 45,
     "metadata": {},
     "output_type": "execute_result"
    },
    {
     "data": {
      "image/png": "[encoded data removed]",
      "text/plain": [
       "<Figure size 432x288 with 1 Axes>"
      ]
     },
     "metadata": {
      "needs_background": "light"
     },
     "output_type": "display_data"
    }
   ],
   "source": [
    "plot_learning_curve(LinearRegression(), 'Liner_model', train_X[:1000], train_y[:1000], ylim=(0.0, 0.5), cv=5, n_jobs=1)  "
   ]
  },
  {
   "cell_type": "code",
   "execution_count": 46,
   "metadata": {},
   "outputs": [],
   "source": [
    "from sklearn.linear_model import LinearRegression\n",
    "from sklearn.linear_model import Ridge\n",
    "from sklearn.linear_model import Lasso"
   ]
  },
  {
   "cell_type": "code",
   "execution_count": 47,
   "metadata": {},
   "outputs": [],
   "source": [
    "train_y_ln = train_y"
   ]
  },
  {
   "cell_type": "code",
   "execution_count": 48,
   "metadata": {},
   "outputs": [],
   "source": [
    "models = [LinearRegression(),\n",
    "          Ridge(),\n",
    "          Lasso()]"
   ]
  },
  {
   "cell_type": "code",
   "execution_count": 49,
   "metadata": {},
   "outputs": [
    {
     "name": "stdout",
     "output_type": "stream",
     "text": [
      "LinearRegression is finished\n",
      "Ridge is finished\n",
      "Lasso is finished\n"
     ]
    }
   ],
   "source": [
    "result = dict()\n",
    "for model in models:\n",
    "    model_name = str(model).split('(')[0]\n",
    "    scores = cross_val_score(model, X=train_X, y=train_y_ln, verbose=0, cv = 5, scoring=make_scorer(mean_absolute_error))\n",
    "    result[model_name] = scores\n",
    "    print(model_name + ' is finished')"
   ]
  },
  {
   "cell_type": "code",
   "execution_count": 50,
   "metadata": {},
   "outputs": [
    {
     "data": {
      "text/html": [
       "<div>\n",
       "<style scoped>\n",
       "    .dataframe tbody tr th:only-of-type {\n",
       "        vertical-align: middle;\n",
       "    }\n",
       "\n",
       "    .dataframe tbody tr th {\n",
       "        vertical-align: top;\n",
       "    }\n",
       "\n",
       "    .dataframe thead th {\n",
       "        text-align: right;\n",
       "    }\n",
       "</style>\n",
       "<table border=\"1\" class=\"dataframe\">\n",
       "  <thead>\n",
       "    <tr style=\"text-align: right;\">\n",
       "      <th></th>\n",
       "      <th>LinearRegression</th>\n",
       "      <th>Ridge</th>\n",
       "      <th>Lasso</th>\n",
       "    </tr>\n",
       "  </thead>\n",
       "  <tbody>\n",
       "    <tr>\n",
       "      <th>cv1</th>\n",
       "      <td>0.188738</td>\n",
       "      <td>0.189802</td>\n",
       "      <td>0.478972</td>\n",
       "    </tr>\n",
       "    <tr>\n",
       "      <th>cv2</th>\n",
       "      <td>0.190103</td>\n",
       "      <td>0.191522</td>\n",
       "      <td>0.476315</td>\n",
       "    </tr>\n",
       "    <tr>\n",
       "      <th>cv3</th>\n",
       "      <td>0.190732</td>\n",
       "      <td>0.191847</td>\n",
       "      <td>0.480589</td>\n",
       "    </tr>\n",
       "    <tr>\n",
       "      <th>cv4</th>\n",
       "      <td>0.186877</td>\n",
       "      <td>0.188103</td>\n",
       "      <td>0.469473</td>\n",
       "    </tr>\n",
       "    <tr>\n",
       "      <th>cv5</th>\n",
       "      <td>0.191253</td>\n",
       "      <td>0.192687</td>\n",
       "      <td>0.477174</td>\n",
       "    </tr>\n",
       "  </tbody>\n",
       "</table>\n",
       "</div>"
      ],
      "text/plain": [
       "     LinearRegression     Ridge     Lasso\n",
       "cv1          0.188738  0.189802  0.478972\n",
       "cv2          0.190103  0.191522  0.476315\n",
       "cv3          0.190732  0.191847  0.480589\n",
       "cv4          0.186877  0.188103  0.469473\n",
       "cv5          0.191253  0.192687  0.477174"
      ]
     },
     "execution_count": 50,
     "metadata": {},
     "output_type": "execute_result"
    }
   ],
   "source": [
    "result = pd.DataFrame(result)\n",
    "result.index = ['cv' + str(x) for x in range(1, 6)]\n",
    "result"
   ]
  },
  {
   "cell_type": "code",
   "execution_count": 79,
   "metadata": {},
   "outputs": [
    {
     "data": {
      "text/plain": [
       "<matplotlib.axes._subplots.AxesSubplot at 0x2028095e898>"
      ]
     },
     "execution_count": 79,
     "metadata": {},
     "output_type": "execute_result"
    },
    {
     "data": {
      "image/png": "[encoded data removed]",
      "text/plain": [
       "<Figure size 432x288 with 1 Axes>"
      ]
     },
     "metadata": {
      "needs_background": "light"
     },
     "output_type": "display_data"
    }
   ],
   "source": [
    "model = LinearRegression().fit(train_X, train_y_ln)\n",
    "sns.barplot(abs(model.coef_), continuous_feature_names)"
   ]
  },
  {
   "cell_type": "code",
   "execution_count": 80,
   "metadata": {},
   "outputs": [
    {
     "data": {
      "text/plain": [
       "<matplotlib.axes._subplots.AxesSubplot at 0x20280b06b70>"
      ]
     },
     "execution_count": 80,
     "metadata": {},
     "output_type": "execute_result"
    },
    {
     "data": {
      "image/png": "[encoded data removed]",
      "text/plain": [
       "<Figure size 432x288 with 1 Axes>"
      ]
     },
     "metadata": {
      "needs_background": "light"
     },
     "output_type": "display_data"
    }
   ],
   "source": [
    "model = Ridge().fit(train_X, train_y_ln)\n",
    "sns.barplot(abs(model.coef_), continuous_feature_names)"
   ]
  },
  {
   "cell_type": "code",
   "execution_count": 53,
   "metadata": {},
   "outputs": [],
   "source": [
    "from sklearn.linear_model import LinearRegression\n",
    "from sklearn.svm import SVC\n",
    "from sklearn.tree import DecisionTreeRegressor\n",
    "from sklearn.ensemble import RandomForestRegressor\n",
    "from sklearn.ensemble import GradientBoostingRegressor\n",
    "from sklearn.neural_network import MLPRegressor\n",
    "from xgboost.sklearn import XGBRegressor\n",
    "from lightgbm.sklearn import LGBMRegressor"
   ]
  },
  {
   "cell_type": "code",
   "execution_count": 54,
   "metadata": {},
   "outputs": [],
   "source": [
    "models = [LinearRegression(),\n",
    "          DecisionTreeRegressor(),\n",
    "          RandomForestRegressor(),\n",
    "          GradientBoostingRegressor(),\n",
    "          MLPRegressor(solver='lbfgs', max_iter=100), \n",
    "          XGBRegressor(n_estimators = 100, objective='reg:squarederror'), \n",
    "          LGBMRegressor(n_estimators = 100)]"
   ]
  },
  {
   "cell_type": "code",
   "execution_count": 58,
   "metadata": {},
   "outputs": [
    {
     "name": "stdout",
     "output_type": "stream",
     "text": [
      "LinearRegression is finished\n",
      "DecisionTreeRegressor is finished\n",
      "RandomForestRegressor is finished\n",
      "GradientBoostingRegressor is finished\n",
      "MLPRegressor is finished\n",
      "XGBRegressor is finished\n",
      "LGBMRegressor is finished\n"
     ]
    }
   ],
   "source": [
    "result = dict()\n",
    "for model in models:\n",
    "    model_name = str(model).split('(')[0]\n",
    "    scores = cross_val_score(model, X=train_X, y=train_y_ln, verbose=0, cv = 5, scoring=make_scorer(mean_absolute_error))\n",
    "    result[model_name] = scores\n",
    "    print(model_name + ' is finished')"
   ]
  },
  {
   "cell_type": "code",
   "execution_count": 59,
   "metadata": {
    "scrolled": true
   },
   "outputs": [
    {
     "data": {
      "text/html": [
       "<div>\n",
       "<style scoped>\n",
       "    .dataframe tbody tr th:only-of-type {\n",
       "        vertical-align: middle;\n",
       "    }\n",
       "\n",
       "    .dataframe tbody tr th {\n",
       "        vertical-align: top;\n",
       "    }\n",
       "\n",
       "    .dataframe thead th {\n",
       "        text-align: right;\n",
       "    }\n",
       "</style>\n",
       "<table border=\"1\" class=\"dataframe\">\n",
       "  <thead>\n",
       "    <tr style=\"text-align: right;\">\n",
       "      <th></th>\n",
       "      <th>LinearRegression</th>\n",
       "      <th>DecisionTreeRegressor</th>\n",
       "      <th>RandomForestRegressor</th>\n",
       "      <th>GradientBoostingRegressor</th>\n",
       "      <th>MLPRegressor</th>\n",
       "      <th>XGBRegressor</th>\n",
       "      <th>LGBMRegressor</th>\n",
       "    </tr>\n",
       "  </thead>\n",
       "  <tbody>\n",
       "    <tr>\n",
       "      <th>cv1</th>\n",
       "      <td>0.188738</td>\n",
       "      <td>0.188086</td>\n",
       "      <td>0.139013</td>\n",
       "      <td>0.175457</td>\n",
       "      <td>0.186808</td>\n",
       "      <td>0.138239</td>\n",
       "      <td>0.143722</td>\n",
       "    </tr>\n",
       "    <tr>\n",
       "      <th>cv2</th>\n",
       "      <td>0.190103</td>\n",
       "      <td>0.186843</td>\n",
       "      <td>0.138613</td>\n",
       "      <td>0.178688</td>\n",
       "      <td>0.194973</td>\n",
       "      <td>0.139259</td>\n",
       "      <td>0.146229</td>\n",
       "    </tr>\n",
       "    <tr>\n",
       "      <th>cv3</th>\n",
       "      <td>0.190732</td>\n",
       "      <td>0.189092</td>\n",
       "      <td>0.140513</td>\n",
       "      <td>0.178153</td>\n",
       "      <td>0.189129</td>\n",
       "      <td>0.139165</td>\n",
       "      <td>0.145907</td>\n",
       "    </tr>\n",
       "    <tr>\n",
       "      <th>cv4</th>\n",
       "      <td>0.186877</td>\n",
       "      <td>0.186656</td>\n",
       "      <td>0.138176</td>\n",
       "      <td>0.175579</td>\n",
       "      <td>0.181161</td>\n",
       "      <td>0.137077</td>\n",
       "      <td>0.143593</td>\n",
       "    </tr>\n",
       "    <tr>\n",
       "      <th>cv5</th>\n",
       "      <td>0.191253</td>\n",
       "      <td>0.187236</td>\n",
       "      <td>0.140035</td>\n",
       "      <td>0.178644</td>\n",
       "      <td>0.190773</td>\n",
       "      <td>0.139791</td>\n",
       "      <td>0.144944</td>\n",
       "    </tr>\n",
       "  </tbody>\n",
       "</table>\n",
       "</div>"
      ],
      "text/plain": [
       "     LinearRegression  DecisionTreeRegressor  RandomForestRegressor  \\\n",
       "cv1          0.188738               0.188086               0.139013   \n",
       "cv2          0.190103               0.186843               0.138613   \n",
       "cv3          0.190732               0.189092               0.140513   \n",
       "cv4          0.186877               0.186656               0.138176   \n",
       "cv5          0.191253               0.187236               0.140035   \n",
       "\n",
       "     GradientBoostingRegressor  MLPRegressor  XGBRegressor  LGBMRegressor  \n",
       "cv1                   0.175457      0.186808      0.138239       0.143722  \n",
       "cv2                   0.178688      0.194973      0.139259       0.146229  \n",
       "cv3                   0.178153      0.189129      0.139165       0.145907  \n",
       "cv4                   0.175579      0.181161      0.137077       0.143593  \n",
       "cv5                   0.178644      0.190773      0.139791       0.144944  "
      ]
     },
     "execution_count": 59,
     "metadata": {},
     "output_type": "execute_result"
    }
   ],
   "source": [
    "result = pd.DataFrame(result)\n",
    "result.index = ['cv' + str(x) for x in range(1, 6)]\n",
    "result"
   ]
  },
  {
   "cell_type": "code",
   "execution_count": 60,
   "metadata": {},
   "outputs": [],
   "source": [
    "objective = ['regression', 'regression_l1', 'mape', 'huber', 'fair']\n",
    "\n",
    "num_leaves = [3,5,10,15,20,40, 55]\n",
    "max_depth = [3,5,10,15,20,40, 55]\n",
    "bagging_fraction = []\n",
    "feature_fraction = []\n",
    "drop_rate = []"
   ]
  },
  {
   "cell_type": "markdown",
   "metadata": {},
   "source": [
    "### 贪心调参"
   ]
  },
  {
   "cell_type": "code",
   "execution_count": 61,
   "metadata": {},
   "outputs": [],
   "source": [
    "best_obj = dict()\n",
    "for obj in objective:\n",
    "    model = LGBMRegressor(objective=obj)\n",
    "    score = np.mean(cross_val_score(model, X=train_X, y=train_y_ln, verbose=0, cv = 5, scoring=make_scorer(mean_absolute_error)))\n",
    "    best_obj[obj] = score\n",
    "    \n",
    "best_leaves = dict()\n",
    "for leaves in num_leaves:\n",
    "    model = LGBMRegressor(objective=min(best_obj.items(), key=lambda x:x[1])[0], num_leaves=leaves)\n",
    "    score = np.mean(cross_val_score(model, X=train_X, y=train_y_ln, verbose=0, cv = 5, scoring=make_scorer(mean_absolute_error)))\n",
    "    best_leaves[leaves] = score\n",
    "    \n",
    "best_depth = dict()\n",
    "for depth in max_depth:\n",
    "    model = LGBMRegressor(objective=min(best_obj.items(), key=lambda x:x[1])[0],\n",
    "                          num_leaves=min(best_leaves.items(), key=lambda x:x[1])[0],\n",
    "                          max_depth=depth)\n",
    "    score = np.mean(cross_val_score(model, X=train_X, y=train_y_ln, verbose=0, cv = 5, scoring=make_scorer(mean_absolute_error)))\n",
    "    best_depth[depth] = score"
   ]
  },
  {
   "cell_type": "code",
   "execution_count": 76,
   "metadata": {},
   "outputs": [],
   "source": [
    "#sns.lineplot(x=['0_initial','1_turning_obj','2_turning_leaves','3_turning_depth'], y=[0.143 ,min(best_obj.values()), min(best_leaves.values()), min(best_depth.values())])"
   ]
  },
  {
   "cell_type": "markdown",
   "metadata": {},
   "source": [
    "### Grid Search 调参"
   ]
  },
  {
   "cell_type": "code",
   "execution_count": 63,
   "metadata": {},
   "outputs": [],
   "source": [
    "from sklearn.model_selection import GridSearchCV"
   ]
  },
  {
   "cell_type": "code",
   "execution_count": 64,
   "metadata": {},
   "outputs": [],
   "source": [
    "parameters = {'objective': objective , 'num_leaves': num_leaves, 'max_depth': max_depth}\n",
    "model = LGBMRegressor()\n",
    "clf = GridSearchCV(model, parameters, cv=5)\n",
    "clf = clf.fit(train_X, train_y)"
   ]
  },
  {
   "cell_type": "code",
   "execution_count": 65,
   "metadata": {},
   "outputs": [
    {
     "data": {
      "text/plain": [
       "{'max_depth': 15, 'num_leaves': 55, 'objective': 'huber'}"
      ]
     },
     "execution_count": 65,
     "metadata": {},
     "output_type": "execute_result"
    }
   ],
   "source": [
    "clf.best_params_"
   ]
  },
  {
   "cell_type": "code",
   "execution_count": 66,
   "metadata": {},
   "outputs": [],
   "source": [
    "model = LGBMRegressor(objective='regression',\n",
    "                          num_leaves=55,\n",
    "                          max_depth=15)"
   ]
  },
  {
   "cell_type": "code",
   "execution_count": 67,
   "metadata": {},
   "outputs": [
    {
     "data": {
      "text/plain": [
       "0.13831341952745607"
      ]
     },
     "execution_count": 67,
     "metadata": {},
     "output_type": "execute_result"
    }
   ],
   "source": [
    "np.mean(cross_val_score(model, X=train_X, y=train_y_ln, verbose=0, cv = 5, scoring=make_scorer(mean_absolute_error)))"
   ]
  },
  {
   "cell_type": "markdown",
   "metadata": {},
   "source": [
    "### 贝叶斯调参"
   ]
  },
  {
   "cell_type": "code",
   "execution_count": 68,
   "metadata": {},
   "outputs": [],
   "source": [
    "from bayes_opt import BayesianOptimization"
   ]
  },
  {
   "cell_type": "code",
   "execution_count": 69,
   "metadata": {},
   "outputs": [],
   "source": [
    "def rf_cv(num_leaves, max_depth, subsample, min_child_samples):\n",
    "    val = cross_val_score(\n",
    "        LGBMRegressor(objective = 'regression_l1',\n",
    "            num_leaves=int(num_leaves),\n",
    "            max_depth=int(max_depth),\n",
    "            subsample = subsample,\n",
    "            min_child_samples = int(min_child_samples)\n",
    "        ),\n",
    "        X=train_X, y=train_y_ln, verbose=0, cv = 5, scoring=make_scorer(mean_absolute_error)\n",
    "    ).mean()\n",
    "    return 1 - val"
   ]
  },
  {
   "cell_type": "code",
   "execution_count": 70,
   "metadata": {},
   "outputs": [],
   "source": [
    "def rf_cv(num_leaves, max_depth, subsample, min_child_samples):\n",
    "    val = cross_val_score(\n",
    "        LGBMRegressor(objective = 'regression_l1',\n",
    "            num_leaves=int(num_leaves),\n",
    "            max_depth=int(max_depth),\n",
    "            subsample = subsample,\n",
    "            min_child_samples = int(min_child_samples)\n",
    "        ),\n",
    "        X=train_X, y=train_y_ln, verbose=0, cv = 5, scoring=make_scorer(mean_absolute_error)\n",
    "    ).mean()\n",
    "    return 1 - val"
   ]
  },
  {
   "cell_type": "code",
   "execution_count": 71,
   "metadata": {},
   "outputs": [],
   "source": [
    "rf_bo = BayesianOptimization(\n",
    "    rf_cv,\n",
    "    {\n",
    "    'num_leaves': (2, 100),\n",
    "    'max_depth': (2, 100),\n",
    "    'subsample': (0.1, 1),\n",
    "    'min_child_samples' : (2, 100)\n",
    "    }\n",
    ")"
   ]
  },
  {
   "cell_type": "code",
   "execution_count": 72,
   "metadata": {},
   "outputs": [
    {
     "name": "stdout",
     "output_type": "stream",
     "text": [
      "|   iter    |  target   | max_depth | min_ch... | num_le... | subsample |\n",
      "-------------------------------------------------------------------------\n",
      "| \u001b[0m 1       \u001b[0m | \u001b[0m 0.8682  \u001b[0m | \u001b[0m 87.25   \u001b[0m | \u001b[0m 66.72   \u001b[0m | \u001b[0m 84.19   \u001b[0m | \u001b[0m 0.5586  \u001b[0m |\n",
      "| \u001b[0m 2       \u001b[0m | \u001b[0m 0.8434  \u001b[0m | \u001b[0m 60.49   \u001b[0m | \u001b[0m 43.07   \u001b[0m | \u001b[0m 14.45   \u001b[0m | \u001b[0m 0.8558  \u001b[0m |\n",
      "| \u001b[0m 3       \u001b[0m | \u001b[0m 0.86    \u001b[0m | \u001b[0m 71.6    \u001b[0m | \u001b[0m 69.63   \u001b[0m | \u001b[0m 41.48   \u001b[0m | \u001b[0m 0.7334  \u001b[0m |\n",
      "| \u001b[0m 4       \u001b[0m | \u001b[0m 0.8654  \u001b[0m | \u001b[0m 10.23   \u001b[0m | \u001b[0m 2.936   \u001b[0m | \u001b[0m 65.33   \u001b[0m | \u001b[0m 0.8168  \u001b[0m |\n",
      "| \u001b[0m 5       \u001b[0m | \u001b[0m 0.8334  \u001b[0m | \u001b[0m 25.86   \u001b[0m | \u001b[0m 28.14   \u001b[0m | \u001b[0m 9.108   \u001b[0m | \u001b[0m 0.3843  \u001b[0m |\n",
      "| \u001b[0m 6       \u001b[0m | \u001b[0m 0.8002  \u001b[0m | \u001b[0m 2.166   \u001b[0m | \u001b[0m 99.41   \u001b[0m | \u001b[0m 97.46   \u001b[0m | \u001b[0m 0.747   \u001b[0m |\n",
      "| \u001b[95m 7       \u001b[0m | \u001b[95m 0.8694  \u001b[0m | \u001b[95m 99.31   \u001b[0m | \u001b[95m 3.519   \u001b[0m | \u001b[95m 98.7    \u001b[0m | \u001b[95m 0.5388  \u001b[0m |\n",
      "| \u001b[0m 8       \u001b[0m | \u001b[0m 0.7949  \u001b[0m | \u001b[0m 98.62   \u001b[0m | \u001b[0m 97.28   \u001b[0m | \u001b[0m 3.367   \u001b[0m | \u001b[0m 0.8184  \u001b[0m |\n",
      "| \u001b[95m 9       \u001b[0m | \u001b[95m 0.8695  \u001b[0m | \u001b[95m 50.37   \u001b[0m | \u001b[95m 6.424   \u001b[0m | \u001b[95m 99.47   \u001b[0m | \u001b[95m 0.8969  \u001b[0m |\n",
      "| \u001b[0m 10      \u001b[0m | \u001b[0m 0.8641  \u001b[0m | \u001b[0m 79.94   \u001b[0m | \u001b[0m 2.469   \u001b[0m | \u001b[0m 56.87   \u001b[0m | \u001b[0m 0.4728  \u001b[0m |\n",
      "| \u001b[0m 11      \u001b[0m | \u001b[0m 0.8694  \u001b[0m | \u001b[0m 99.61   \u001b[0m | \u001b[0m 6.932   \u001b[0m | \u001b[0m 98.11   \u001b[0m | \u001b[0m 0.2403  \u001b[0m |\n",
      "| \u001b[0m 12      \u001b[0m | \u001b[0m 0.866   \u001b[0m | \u001b[0m 50.2    \u001b[0m | \u001b[0m 36.85   \u001b[0m | \u001b[0m 69.78   \u001b[0m | \u001b[0m 0.9439  \u001b[0m |\n",
      "| \u001b[0m 13      \u001b[0m | \u001b[0m 0.8658  \u001b[0m | \u001b[0m 98.95   \u001b[0m | \u001b[0m 44.37   \u001b[0m | \u001b[0m 67.32   \u001b[0m | \u001b[0m 0.66    \u001b[0m |\n",
      "| \u001b[0m 14      \u001b[0m | \u001b[0m 0.869   \u001b[0m | \u001b[0m 95.07   \u001b[0m | \u001b[0m 99.45   \u001b[0m | \u001b[0m 98.96   \u001b[0m | \u001b[0m 0.985   \u001b[0m |\n",
      "| \u001b[0m 15      \u001b[0m | \u001b[0m 0.866   \u001b[0m | \u001b[0m 46.1    \u001b[0m | \u001b[0m 3.069   \u001b[0m | \u001b[0m 68.55   \u001b[0m | \u001b[0m 0.9624  \u001b[0m |\n",
      "| \u001b[0m 16      \u001b[0m | \u001b[0m 0.8682  \u001b[0m | \u001b[0m 9.878   \u001b[0m | \u001b[0m 2.722   \u001b[0m | \u001b[0m 99.37   \u001b[0m | \u001b[0m 0.9156  \u001b[0m |\n",
      "| \u001b[95m 17      \u001b[0m | \u001b[95m 0.8696  \u001b[0m | \u001b[95m 97.75   \u001b[0m | \u001b[95m 63.39   \u001b[0m | \u001b[95m 99.55   \u001b[0m | \u001b[95m 0.2375  \u001b[0m |\n",
      "| \u001b[0m 18      \u001b[0m | \u001b[0m 0.8676  \u001b[0m | \u001b[0m 99.73   \u001b[0m | \u001b[0m 95.53   \u001b[0m | \u001b[0m 81.77   \u001b[0m | \u001b[0m 0.4033  \u001b[0m |\n",
      "| \u001b[0m 19      \u001b[0m | \u001b[0m 0.869   \u001b[0m | \u001b[0m 70.0    \u001b[0m | \u001b[0m 3.152   \u001b[0m | \u001b[0m 93.24   \u001b[0m | \u001b[0m 0.1712  \u001b[0m |\n",
      "| \u001b[0m 20      \u001b[0m | \u001b[0m 0.8695  \u001b[0m | \u001b[0m 88.83   \u001b[0m | \u001b[0m 26.06   \u001b[0m | \u001b[0m 99.54   \u001b[0m | \u001b[0m 0.9432  \u001b[0m |\n",
      "| \u001b[95m 21      \u001b[0m | \u001b[95m 0.8697  \u001b[0m | \u001b[95m 99.62   \u001b[0m | \u001b[95m 70.52   \u001b[0m | \u001b[95m 99.29   \u001b[0m | \u001b[95m 0.8384  \u001b[0m |\n",
      "| \u001b[0m 22      \u001b[0m | \u001b[0m 0.8691  \u001b[0m | \u001b[0m 99.69   \u001b[0m | \u001b[0m 97.85   \u001b[0m | \u001b[0m 96.23   \u001b[0m | \u001b[0m 0.1804  \u001b[0m |\n",
      "| \u001b[0m 23      \u001b[0m | \u001b[0m 0.8695  \u001b[0m | \u001b[0m 78.26   \u001b[0m | \u001b[0m 2.854   \u001b[0m | \u001b[0m 99.19   \u001b[0m | \u001b[0m 0.9562  \u001b[0m |\n",
      "| \u001b[0m 24      \u001b[0m | \u001b[0m 0.8694  \u001b[0m | \u001b[0m 32.09   \u001b[0m | \u001b[0m 2.491   \u001b[0m | \u001b[0m 98.36   \u001b[0m | \u001b[0m 0.8091  \u001b[0m |\n",
      "| \u001b[0m 25      \u001b[0m | \u001b[0m 0.8694  \u001b[0m | \u001b[0m 98.72   \u001b[0m | \u001b[0m 87.37   \u001b[0m | \u001b[0m 99.2    \u001b[0m | \u001b[0m 0.8725  \u001b[0m |\n",
      "| \u001b[0m 26      \u001b[0m | \u001b[0m 0.8692  \u001b[0m | \u001b[0m 99.99   \u001b[0m | \u001b[0m 26.85   \u001b[0m | \u001b[0m 96.95   \u001b[0m | \u001b[0m 0.9901  \u001b[0m |\n",
      "| \u001b[0m 27      \u001b[0m | \u001b[0m 0.8695  \u001b[0m | \u001b[0m 96.89   \u001b[0m | \u001b[0m 32.06   \u001b[0m | \u001b[0m 99.72   \u001b[0m | \u001b[0m 0.1178  \u001b[0m |\n",
      "| \u001b[0m 28      \u001b[0m | \u001b[0m 0.8694  \u001b[0m | \u001b[0m 33.31   \u001b[0m | \u001b[0m 2.295   \u001b[0m | \u001b[0m 98.36   \u001b[0m | \u001b[0m 0.3201  \u001b[0m |\n",
      "| \u001b[0m 29      \u001b[0m | \u001b[0m 0.8677  \u001b[0m | \u001b[0m 76.59   \u001b[0m | \u001b[0m 35.35   \u001b[0m | \u001b[0m 80.15   \u001b[0m | \u001b[0m 0.1253  \u001b[0m |\n",
      "| \u001b[0m 30      \u001b[0m | \u001b[0m 0.8695  \u001b[0m | \u001b[0m 55.76   \u001b[0m | \u001b[0m 2.608   \u001b[0m | \u001b[0m 99.29   \u001b[0m | \u001b[0m 0.2271  \u001b[0m |\n",
      "=========================================================================\n"
     ]
    }
   ],
   "source": [
    "rf_bo.maximize()"
   ]
  },
  {
   "cell_type": "code",
   "execution_count": 73,
   "metadata": {},
   "outputs": [
    {
     "data": {
      "text/plain": [
       "0.13027746444666166"
      ]
     },
     "execution_count": 73,
     "metadata": {},
     "output_type": "execute_result"
    }
   ],
   "source": [
    "1 - rf_bo.max['target']"
   ]
  },
  {
   "cell_type": "code",
   "execution_count": null,
   "metadata": {},
   "outputs": [],
   "source": []
  }
 ],
 "metadata": {
  "kernelspec": {
   "display_name": "Python 3",
   "language": "python",
   "name": "python3"
  },
  "language_info": {
   "codemirror_mode": {
    "name": "ipython",
    "version": 3
   },
   "file_extension": ".py",
   "mimetype": "text/x-python",
   "name": "python",
   "nbconvert_exporter": "python",
   "pygments_lexer": "ipython3",
   "version": "3.7.3"
  }
 },
 "nbformat": 4,
 "nbformat_minor": 2
}
